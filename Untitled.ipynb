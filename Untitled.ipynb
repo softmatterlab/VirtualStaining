{
 "cells": [
  {
   "cell_type": "code",
   "execution_count": 3,
   "metadata": {},
   "outputs": [],
   "source": [
    "import os\n",
    "import glob\n",
    "import random\n",
    "import itertools\n",
    "from timeit import default_timer as timer\n",
    "\n",
    "import numpy as np\n",
    "from PIL import Image\n",
    "import PIL\n",
    "import matplotlib.pyplot as plt\n",
    "from tensorflow.keras.optimizers import Adam\n",
    "\n",
    "# DeepTrack 2.0 code\n",
    "import apido\n",
    "from apido import deeptrack as dt\n",
    "\n",
    "from scipy import optimize"
   ]
  },
  {
   "cell_type": "code",
   "execution_count": 69,
   "metadata": {},
   "outputs": [],
   "source": [
    "import matplotlib.pyplot as plt\n",
    "import numpy as np\n",
    "import pandas as pd\n",
    "from sklearn.metrics import mean_absolute_error\n",
    "import sys\n",
    "import os\n",
    "import glob\n",
    "import re \n",
    "\n",
    "def get_featurewise_mean_absolute_error(targ_file, pred_file):\n",
    "    \"\"\"The relative mean absolute error between two data sets. \n",
    "\n",
    "    Parameters\n",
    "    ----------\n",
    "    targ_file : str\n",
    "        Path to csv file containing the CellProfiler results for ground truth images\n",
    "        \n",
    "    pred_file : str\n",
    "        Path to csv file containing the CellProfiler results for generated  images\n",
    "\n",
    "    Returns\n",
    "    ----------\n",
    "    mae_per_feature : array\n",
    "        Mean absolute error (mae) for each feature in the dataset. Each feature-mae is normalized \n",
    "        with the corresponding feature median to account for different feature scales. \n",
    "    \n",
    "    mae : float64\n",
    "        Averaged mae_per_feature\n",
    "    \n",
    "    feature_names : object\n",
    "        names of features in data set\n",
    "        \n",
    "    \"\"\"\n",
    "    \n",
    "    # read the results into dataframes \n",
    "    df_targ = pd.read_csv(targ_file) \n",
    "    df_pred = pd.read_csv(pred_file)\n",
    "    df_targ = df_targ.drop(['Metadata_Well', 'ImageNumber','Metadata_FoV'], axis=1) # drop metadata\n",
    "    df_pred = df_pred.drop(['Metadata_Well', 'ImageNumber','Metadata_FoV'], axis=1) # drop metadata\n",
    "    n_features = len(df_pred.columns) \n",
    "    feature_names = df_targ.keys()\n",
    "    \n",
    "    \n",
    "    df_targ = df_targ\n",
    "    df_pred = df_pred\n",
    "\n",
    "    # mean absolute error for each normalized feature \n",
    "    mae_per_feature = mean_absolute_error(df_pred, df_targ, multioutput='raw_values')\n",
    "\n",
    "    return mae, mae_per_feature, feature_names\n",
    "\n",
    "\n",
    "def convert_images_to_array(image_dir):\n",
    "    \"\"\"Convert images in directory to numpy arrays \n",
    "\n",
    "    Parameters\n",
    "    ----------\n",
    "    image_dir : str\n",
    "        Path to image directory. The directory must contain n image triplets \n",
    "        with the following naming convention\n",
    "        AssayPlate_Greiner_#655090_D02_T0001F007L01A01Z01C01.tif\n",
    "        AssayPlate_Greiner_#655090_D02_T0001F007L01A01Z01C02.tif\n",
    "        AssayPlate_Greiner_#655090_D02_T0001F007L01A01Z01C03.tif\n",
    "        representing the three target channels for each well and field of view.\n",
    "\n",
    "        \n",
    "    Returns\n",
    "    ----------\n",
    "    y_c01 : array\n",
    "        Array containing n C01 images. Shape: (n, image width, image height) \n",
    "    \n",
    "    y_c02 : array\n",
    "        Array containing n C02 images. Shape: (n, image width, image height) \n",
    "    \n",
    "    y_c03 : array\n",
    "        Array containing n C03 images. Shape: (n, image width, image height) \n",
    "        \n",
    "    \"\"\"\n",
    "    # dataframe to store metadata for each file \n",
    "    df = pd.DataFrame(columns = ['path', 'pos', 'F', 'C', 'Z']) \n",
    "    df_row = pd.DataFrame(np.array([[0,0,0,0,0]]), columns = ['path', 'pos', 'F', 'C', 'Z']) \n",
    "\n",
    "    # get all files in image_dir\n",
    "    for x in os.walk(image_dir):\n",
    "        file_list = glob.glob(x[0] + '/AssayPlate*.tif')\n",
    "\n",
    "    # get metadata from each file name and store in df\n",
    "    for file in file_list:\n",
    "        filename = os.path.split(file)[1]\n",
    "        df_row['path'] = file\n",
    "        df_row['pos'] = re.search(r'.\\d\\d_T',filename).group()[0:3]\n",
    "        df_row['F'] = re.search(r'\\dF\\d\\d\\d',filename).group()[1:]\n",
    "        df_row['C'] = re.search(r'\\dC\\d\\d',filename).group()[1:]\n",
    "        df_row['Z'] = re.search(r'\\dZ\\d\\d',filename).group()[1:]\n",
    "        df = df.append(df_row, sort=False)\n",
    "    df = df.reset_index(drop=True)\n",
    "\n",
    "    # group dataframe according to pos (well) and F (field of view)\n",
    "    df_grouped = df.groupby(['pos','F'])\n",
    "\n",
    "    # empty lists to store images for each flouresence channel\n",
    "    y_c01 = []\n",
    "    y_c02 = []\n",
    "    y_c03 = []\n",
    "\n",
    "    # for every group, load image from each channel  \n",
    "    for state, frame in df_grouped:\n",
    "        frame = frame.sort_values(by=['C','Z'])\n",
    "        for row_index, row in frame.iterrows():\n",
    "            if row['C'] == 'C01':\n",
    "                im = plt.imread(row['path'])\n",
    "                y_c01.append(im)\n",
    "            elif row['C'] == 'C02':\n",
    "                im = plt.imread(row['path'])\n",
    "                y_c02.append(im)\n",
    "            elif row['C'] == 'C03':\n",
    "                im = plt.imread(row['path'])\n",
    "                y_c03.append(im)\n",
    "\n",
    "    # convert to numpy array\n",
    "    y_c01 = np.array(y_c01).astype('float32')\n",
    "    y_c02 = np.array(y_c02).astype('float32')\n",
    "    y_c03 = np.array(y_c03).astype('float32')\n",
    "\n",
    "    return y_c01, y_c02, y_c03, df_grouped\n",
    "\n",
    "def get_pixelwise_mean_absolute_error(targ_dir, pred_dir):\n",
    "    \"\"\"Pixelwise realative mean absolute error between two image data sets\n",
    "    \n",
    "    Parameters\n",
    "    ----------\n",
    "    target_dir : str\n",
    "        Path to image directory containing ground truth images.\n",
    "    \n",
    "    pred_dir : str\n",
    "        Path to image directory containing generated images. T\n",
    "        \n",
    "    Both directories must contain n image triplets with the \n",
    "    following naming convention\n",
    "    AssayPlate_Greiner_#655090_D02_T0001F007L01A01Z01C01.tif\n",
    "    AssayPlate_Greiner_#655090_D02_T0001F007L01A01Z01C02.tif\n",
    "    AssayPlate_Greiner_#655090_D02_T0001F007L01A01Z01C03.tif\n",
    "    representing the three target channels for each well and field of view.\n",
    "\n",
    "    Returns\n",
    "    ----------\n",
    "    mae_c01 : float64\n",
    "        Pixel-to-pixel relative mean absolute error for channel C01 \n",
    "    \n",
    "    mae_c02 : float64\n",
    "        Pixel-to-pixel relative mean absolute error for channel C02 \n",
    "    \n",
    "    mae_c03 : float64\n",
    "        Pixel-to-pixel relative mean  absolute error for channel C03\n",
    "    \n",
    "    mae : float64\n",
    "        Average of mae_c01, mae_c02 and mae_c03\n",
    "    \"\"\"\n",
    "    # convert target images to array\n",
    "    y_c01_targ, y_c02_targ, y_c03_targ = convert_images_to_array(targ_dir)\n",
    "    # convert predicted images to array\n",
    "    y_c01_pred, y_c02_pred, y_c03_pred = convert_images_to_array(pred_dir)\n",
    "\n",
    "    mae = np.average([mae_c01, mae_c02, mae_c03])\n",
    "    \n",
    "    return mae, mae_c01, mae_c02, mae_c03"
   ]
  },
  {
   "cell_type": "code",
   "execution_count": 70,
   "metadata": {},
   "outputs": [],
   "source": [
    "a, b, c, f = convert_images_to_array(\"./datasets/apidocytes_60x/validation_data/\")\n",
    "ap, bp, cp, f = convert_images_to_array(\"./datasets/apidocytes_60x/validation_results/\")\n",
    "\n"
   ]
  },
  {
   "cell_type": "code",
   "execution_count": 55,
   "metadata": {},
   "outputs": [
    {
     "data": {
      "text/plain": [
       "(15, 2156, 2556)"
      ]
     },
     "execution_count": 55,
     "metadata": {},
     "output_type": "execute_result"
    }
   ],
   "source": [
    "f"
   ]
  },
  {
   "cell_type": "code",
   "execution_count": 36,
   "metadata": {},
   "outputs": [
    {
     "data": {
      "image/png": "[encoded data removed]",
      "text/plain": [
       "<Figure size 432x288 with 1 Axes>"
      ]
     },
     "metadata": {
      "needs_background": "light"
     },
     "output_type": "display_data"
    },
    {
     "data": {
      "image/png": "[encoded data removed]",
      "text/plain": [
       "<Figure size 432x288 with 1 Axes>"
      ]
     },
     "metadata": {
      "needs_background": "light"
     },
     "output_type": "display_data"
    },
    {
     "data": {
      "image/png": "[encoded data removed]",
      "text/plain": [
       "<Figure size 432x288 with 1 Axes>"
      ]
     },
     "metadata": {
      "needs_background": "light"
     },
     "output_type": "display_data"
    }
   ],
   "source": [
    "plt.hist(a.flatten(), range(0, 4000, 50))\n",
    "plt.hist(ap.flatten(), range(0, 4000, 50), alpha=0.5)\n",
    "plt.show()\n",
    "plt.hist(b.flatten(), range(0, 4000, 50))\n",
    "plt.hist(bp.flatten(), range(0, 4000, 50), alpha=0.5)\n",
    "plt.show()\n",
    "plt.hist(c.flatten(), range(0, 1000, 10))\n",
    "plt.hist(cp.flatten(), range(0, 1000, 10), alpha=0.5)\n",
    "plt.show()"
   ]
  },
  {
   "cell_type": "code",
   "execution_count": 41,
   "metadata": {},
   "outputs": [],
   "source": [
    "mean = []\n",
    "\n",
    "for C in zip(a, ap, b, bp, c, cp):\n",
    "    C = tuple(C)\n",
    "    tup = np.mean(C, axis=(1, 2)) \n",
    "    mean.append(tup)\n"
   ]
  },
  {
   "cell_type": "code",
   "execution_count": 50,
   "metadata": {},
   "outputs": [
    {
     "name": "stdout",
     "output_type": "stream",
     "text": [
      "[ 290.7767   276.5734  1270.6075  1262.3817   321.03244  332.97968]\n",
      "[272.0597  254.53456 926.1505  891.91113 304.99432 322.0645 ]\n",
      "[ 327.79288  298.56586 1707.255   1599.9606   341.84473  345.04492]\n",
      "[16.709955 59.605736 13.166217]\n",
      "[0.05647053 0.04517644 0.04132982]\n"
     ]
    }
   ],
   "source": [
    "mean = np.array(mean)\n",
    "mae = np.abs(mean[:, ::2] - mean[:, 1::2])\n",
    "pmae = np.abs(mean[:, ::2] - mean[:, 1::2]) / mean[:, ::2]\n",
    "\n",
    "print(np.mean(mean, axis=0))\n",
    "print(np.min(mean, axis=0))\n",
    "print(np.max(mean, axis=0))\n",
    "print(np.mean(np.abs(mean[:, ::2] - mean[:, 1::2]), axis=0))\n",
    "print(np.mean(np.abs(mean[:, ::2] - mean[:, 1::2]) / mean[:, ::2], axis=0))\n",
    "\n",
    "\n"
   ]
  },
  {
   "cell_type": "code",
   "execution_count": 85,
   "metadata": {},
   "outputs": [],
   "source": [
    "d = {\n",
    "    \"well\":[],\n",
    "    \"site\":[],\n",
    "    \"mean_target\":[],\n",
    "    \"mean_prediction\":[],\n",
    "    \"error\":[],\n",
    "    \"percentage_error\":[]\n",
    "}\n",
    "for dp, t, p in zip(list(f.groups.keys())[::3], mean[:, 0], mean[:, 1]):\n",
    "    d[\"well\"].append(dp[0])\n",
    "    d[\"site\"].append(dp[1])\n",
    "    d[\"mean_target\"].append(t)\n",
    "    d[\"mean_prediction\"].append(p)\n",
    "    d[\"error\"].append(np.abs(t - p))\n",
    "    d[\"percentage_error\"].append(np.abs(t - p) / t * 100)\n",
    "\n",
    "import apido\n",
    "apido.save_history_as_csv(\"nuclei.csv\", d)"
   ]
  },
  {
   "cell_type": "code",
   "execution_count": 86,
   "metadata": {},
   "outputs": [],
   "source": [
    "d = {\n",
    "    \"well\":[],\n",
    "    \"site\":[],\n",
    "    \"mean_target\":[],\n",
    "    \"mean_prediction\":[],\n",
    "    \"error\":[],\n",
    "    \"percentage_error\":[]\n",
    "}\n",
    "for dp, t, p in zip(list(f.groups.keys())[::3], mean[:, 2], mean[:, 3]):\n",
    "    d[\"well\"].append(dp[0])\n",
    "    d[\"site\"].append(dp[1])\n",
    "    d[\"mean_target\"].append(t)\n",
    "    d[\"mean_prediction\"].append(p)\n",
    "    d[\"error\"].append(np.abs(t - p))\n",
    "    d[\"percentage_error\"].append(np.abs(t - p) / t * 100)\n",
    "\n",
    "import apido\n",
    "apido.save_history_as_csv(\"lipids.csv\", d)"
   ]
  },
  {
   "cell_type": "code",
   "execution_count": 87,
   "metadata": {},
   "outputs": [],
   "source": [
    "d = {\n",
    "    \"well\":[],\n",
    "    \"site\":[],\n",
    "    \"mean_target\":[],\n",
    "    \"mean_prediction\":[],\n",
    "    \"error\":[],\n",
    "    \"percentage_error\":[]\n",
    "}\n",
    "for dp, t, p in zip(list(f.groups.keys())[::3], mean[:, 4], mean[:, 5]):\n",
    "    d[\"well\"].append(dp[0])\n",
    "    d[\"site\"].append(dp[1])\n",
    "    d[\"mean_target\"].append(t)\n",
    "    d[\"mean_prediction\"].append(p)\n",
    "    d[\"error\"].append(np.abs(t - p))\n",
    "    d[\"percentage_error\"].append(np.abs(t - p) / t * 100)\n",
    "\n",
    "import apido\n",
    "apido.save_history_as_csv(\"cyto.csv\", d)"
   ]
  },
  {
   "cell_type": "code",
   "execution_count": 80,
   "metadata": {},
   "outputs": [
    {
     "data": {
      "text/plain": [
       "[('B03', 'F001'),\n",
       " ('B04', 'F001'),\n",
       " ('C02', 'F001'),\n",
       " ('C04', 'F004'),\n",
       " ('D02', 'F009')]"
      ]
     },
     "execution_count": 80,
     "metadata": {},
     "output_type": "execute_result"
    }
   ],
   "source": []
  },
  {
   "cell_type": "code",
   "execution_count": 65,
   "metadata": {},
   "outputs": [
    {
     "data": {
      "text/plain": [
       "(0.35597292, 0.6313093, 0.20495743, 0.2316521)"
      ]
     },
     "execution_count": 65,
     "metadata": {},
     "output_type": "execute_result"
    }
   ],
   "source": [
    "get_pixelwise_mean_absolute_error(\"./validation_data/40x images/\", \"./validation_results/40x images/\")"
   ]
  },
  {
   "cell_type": "code",
   "execution_count": 120,
   "metadata": {},
   "outputs": [
    {
     "data": {
      "text/plain": [
       "(0.33564147, 0.6395305, 0.14813095, 0.2192629)"
      ]
     },
     "execution_count": 120,
     "metadata": {},
     "output_type": "execute_result"
    }
   ],
   "source": [
    "get_pixelwise_mean_absolute_error(\"./validation_data/60x images/\", \"./validation_results/60x images/\")"
   ]
  },
  {
   "cell_type": "code",
   "execution_count": 2,
   "metadata": {},
   "outputs": [
    {
     "data": {
      "text/plain": [
       "(0.32746166, 0.6149911, 0.14813095, 0.2192629)"
      ]
     },
     "execution_count": 2,
     "metadata": {},
     "output_type": "execute_result"
    }
   ],
   "source": [
    "get_pixelwise_mean_absolute_error(\"./validation_data/60x images/\", \"./validation_results/60x images/\")"
   ]
  },
  {
   "cell_type": "code",
   "execution_count": 135,
   "metadata": {},
   "outputs": [],
   "source": [
    "a = convert_images_to_array(\"./validation_data/60x images/\")\n",
    "b = convert_images_to_array(\"./validation_results/60x images/\")"
   ]
  },
  {
   "cell_type": "code",
   "execution_count": 130,
   "metadata": {},
   "outputs": [],
   "source": []
  },
  {
   "cell_type": "code",
   "execution_count": 140,
   "metadata": {},
   "outputs": [
    {
     "data": {
      "text/plain": [
       "48.122795"
      ]
     },
     "execution_count": 140,
     "metadata": {},
     "output_type": "execute_result"
    }
   ],
   "source": [
    "np.mean(np.array(a)[1] - np.array(b)[1])"
   ]
  },
  {
   "cell_type": "code",
   "execution_count": 136,
   "metadata": {},
   "outputs": [
    {
     "data": {
      "image/png": "[encoded data removed]",
      "text/plain": [
       "<Figure size 432x288 with 1 Axes>"
      ]
     },
     "metadata": {
      "needs_background": "light"
     },
     "output_type": "display_data"
    },
    {
     "data": {
      "image/png": "[encoded data removed]",
      "text/plain": [
       "<Figure size 432x288 with 1 Axes>"
      ]
     },
     "metadata": {
      "needs_background": "light"
     },
     "output_type": "display_data"
    },
    {
     "data": {
      "image/png": "[encoded data removed]",
      "text/plain": [
       "<Figure size 432x288 with 1 Axes>"
      ]
     },
     "metadata": {
      "needs_background": "light"
     },
     "output_type": "display_data"
    }
   ],
   "source": [
    "\n",
    "plt.hist(np.array(a)[0].flatten(), bins=range(0, 3000, 20))\n",
    "plt.hist((np.array(b))[0].flatten(), bins=range(0, 3000, 20),alpha=.5)\n",
    "\n",
    "plt.show()\n",
    "\n",
    "plt.hist(np.array(a)[1].flatten(), bins=range(0, 3000, 20))\n",
    "plt.hist((np.array(b))[1].flatten(), bins=range(0, 3000, 20),alpha=.5)\n",
    "\n",
    "plt.show()\n",
    "\n",
    "plt.hist(np.array(a)[2].flatten(), bins=range(0, 3000, 20))\n",
    "plt.hist((np.array(b))[2].flatten(), bins=range(0, 3000, 20),alpha=.5)\n",
    "\n",
    "plt.show()"
   ]
  },
  {
   "cell_type": "code",
   "execution_count": 88,
   "metadata": {},
   "outputs": [
    {
     "ename": "IndexError",
     "evalue": "too many indices for array",
     "output_type": "error",
     "traceback": [
      "\u001b[1;31m---------------------------------------------------------------------------\u001b[0m",
      "\u001b[1;31mIndexError\u001b[0m                                Traceback (most recent call last)",
      "\u001b[1;32m<ipython-input-88-e883189805d3>\u001b[0m in \u001b[0;36m<module>\u001b[1;34m\u001b[0m\n\u001b[1;32m----> 1\u001b[1;33m \u001b[0mx\u001b[0m \u001b[1;33m=\u001b[0m \u001b[0mnp\u001b[0m\u001b[1;33m.\u001b[0m\u001b[0marray\u001b[0m\u001b[1;33m(\u001b[0m\u001b[0ma\u001b[0m\u001b[1;33m)\u001b[0m\u001b[1;33m[\u001b[0m\u001b[1;36m0\u001b[0m\u001b[1;33m,\u001b[0m \u001b[1;33m:\u001b[0m\u001b[1;33m,\u001b[0m \u001b[1;33m:\u001b[0m\u001b[1;33m,\u001b[0m \u001b[1;33m:\u001b[0m\u001b[1;33m]\u001b[0m\u001b[1;33m.\u001b[0m\u001b[0mflatten\u001b[0m\u001b[1;33m(\u001b[0m\u001b[1;33m)\u001b[0m\u001b[1;33m\u001b[0m\u001b[1;33m\u001b[0m\u001b[0m\n\u001b[0m\u001b[0;32m      2\u001b[0m \u001b[0my\u001b[0m \u001b[1;33m=\u001b[0m \u001b[0mnp\u001b[0m\u001b[1;33m.\u001b[0m\u001b[0marray\u001b[0m\u001b[1;33m(\u001b[0m\u001b[0mb\u001b[0m\u001b[1;33m)\u001b[0m\u001b[1;33m[\u001b[0m\u001b[1;36m0\u001b[0m\u001b[1;33m,\u001b[0m \u001b[1;33m:\u001b[0m\u001b[1;33m,\u001b[0m \u001b[1;33m:\u001b[0m\u001b[1;33m,\u001b[0m \u001b[1;33m:\u001b[0m\u001b[1;33m]\u001b[0m\u001b[1;33m.\u001b[0m\u001b[0mflatten\u001b[0m\u001b[1;33m(\u001b[0m\u001b[1;33m)\u001b[0m\u001b[1;33m\u001b[0m\u001b[1;33m\u001b[0m\u001b[0m\n\u001b[0;32m      3\u001b[0m \u001b[1;33m\u001b[0m\u001b[0m\n\u001b[0;32m      4\u001b[0m \u001b[0mnp\u001b[0m\u001b[1;33m.\u001b[0m\u001b[0mrandom\u001b[0m\u001b[1;33m.\u001b[0m\u001b[0mseed\u001b[0m\u001b[1;33m(\u001b[0m\u001b[1;36m1\u001b[0m\u001b[1;33m)\u001b[0m\u001b[1;33m\u001b[0m\u001b[1;33m\u001b[0m\u001b[0m\n\u001b[0;32m      5\u001b[0m \u001b[0mx\u001b[0m \u001b[1;33m=\u001b[0m \u001b[0mnp\u001b[0m\u001b[1;33m.\u001b[0m\u001b[0mrandom\u001b[0m\u001b[1;33m.\u001b[0m\u001b[0mchoice\u001b[0m\u001b[1;33m(\u001b[0m\u001b[0mx\u001b[0m\u001b[1;33m,\u001b[0m \u001b[1;36m4000\u001b[0m\u001b[1;33m)\u001b[0m\u001b[1;33m\u001b[0m\u001b[1;33m\u001b[0m\u001b[0m\n",
      "\u001b[1;31mIndexError\u001b[0m: too many indices for array"
     ]
    }
   ],
   "source": [
    "x = np.array(a)[0, :, :, :].flatten()\n",
    "y = np.array(b)[0, :, :, :].flatten()\n",
    "\n",
    "np.random.seed(1)\n",
    "x = np.random.choice(x, 4000)\n",
    "np.random.seed(1)\n",
    "y = np.random.choice(y, 4000)\n",
    "\n",
    "plt.scatter(x, y, alpha=0.01)\n",
    "plt.plot([0, np.max(y)], [0, np.max(y)])\n",
    "plt.axis(\"equal\")\n",
    "plt.axis(\"square\")\n",
    "plt.show()\n",
    "\n",
    "x = np.array(a)[1, :, :, :].flatten()\n",
    "y = np.array(b)[1, :, :, :].flatten()\n",
    "\n",
    "np.random.seed(1)\n",
    "x = np.random.choice(x, 4000)\n",
    "np.random.seed(1)\n",
    "y = np.random.choice(y, 4000)\n",
    "\n",
    "plt.scatter(x, y, alpha=0.01)\n",
    "plt.plot([0, np.max(y)], [0, np.max(y)])\n",
    "plt.axis(\"equal\")\n",
    "plt.axis(\"square\")\n",
    "plt.show()\n",
    "\n",
    "\n",
    "x = np.array(a)[2, :, :, :].flatten()\n",
    "y = np.array(b)[2, :, :, :].flatten()\n",
    "\n",
    "np.random.seed(1)\n",
    "x = np.random.choice(x, 4000)\n",
    "np.random.seed(1)\n",
    "y = np.random.choice(y, 4000)\n",
    "\n",
    "plt.scatter(x, y, alpha=0.01)\n",
    "plt.plot([0, np.max(y)], [0, np.max(y)])\n",
    "plt.axis(\"equal\")\n",
    "plt.axis(\"square\")\n",
    "plt.show()\n"
   ]
  },
  {
   "cell_type": "code",
   "execution_count": 106,
   "metadata": {},
   "outputs": [
    {
     "data": {
      "text/plain": [
       "(3, 15, 2156, 2556)"
      ]
     },
     "execution_count": 106,
     "metadata": {},
     "output_type": "execute_result"
    }
   ],
   "source": [
    "np.array(a).shape"
   ]
  }
 ],
 "metadata": {
  "kernelspec": {
   "display_name": "Python 3",
   "language": "python",
   "name": "python3"
  },
  "language_info": {
   "codemirror_mode": {
    "name": "ipython",
    "version": 3
   },
   "file_extension": ".py",
   "mimetype": "text/x-python",
   "name": "python",
   "nbconvert_exporter": "python",
   "pygments_lexer": "ipython3",
   "version": "3.7.8"
  }
 },
 "nbformat": 4,
 "nbformat_minor": 4
}
